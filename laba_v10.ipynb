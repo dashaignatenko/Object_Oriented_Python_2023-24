{
 "cells": [
  {
   "cell_type": "code",
   "execution_count": 1,
   "id": "b431a2ab",
   "metadata": {},
   "outputs": [],
   "source": [
    "import pandas as pd\n",
    "import numpy as np\n",
    "import statistics\n",
    "import csv\n",
    "import numbers"
   ]
  },
  {
   "cell_type": "markdown",
   "id": "b0220125",
   "metadata": {},
   "source": [
    "Будущих бухгалтеров отталкивает сложность современных электронных таблиц. Разработайте для них программу с минимальным функционалом: хранение числовых и текстовых данных в таблице с изменяемым размером.\n",
    "1. Ячейка электронной таблицы: числовое или текстовое значение, может быть пустой\n",
    "2. Ячейка с формулой: диапазон ячеек (адреса первой и последней ячейки) и операция над диапазоном (сумма, произведение, среднее значение), метод вывода результата операции (или ошибки, если расчёт невозможен).\n",
    "3. Таблица: хранение ячеек и вычисления операций над ними.\n"
   ]
  },
  {
   "cell_type": "code",
   "execution_count": 2,
   "id": "666d4d87",
   "metadata": {},
   "outputs": [],
   "source": [
    "class Cell:\n",
    "    def __init__(self, value=None):\n",
    "        self.value = value\n",
    "        self.type = type(self.value)\n",
    "        \n",
    "    def change(self, value):\n",
    "        self.value = value\n",
    "        self.type = type(self.value)\n",
    "    \n"
   ]
  },
  {
   "cell_type": "code",
   "execution_count": 3,
   "id": "b5095a41",
   "metadata": {},
   "outputs": [],
   "source": [
    "class CellOperation:\n",
    "    def __init__(self, cells):\n",
    "            self.cells = cells\n",
    "            self.c_values = [c.value for c in cells]\n",
    "            self.value = None\n",
    "    def add(self):\n",
    "        try:\n",
    "            res = sum(self.c_values)\n",
    "            self.value = res\n",
    "            print(res)\n",
    "        except:\n",
    "            print('Расчет невозможен')\n",
    "    def mult(self):\n",
    "        try:\n",
    "            res = np.prod(self.c_values)\n",
    "            self.value = res\n",
    "            print(res)\n",
    "        except:\n",
    "            print('Расчет невозможен')\n",
    "    def mean(self):\n",
    "        try:\n",
    "            res = np.mean(self.c_values)\n",
    "            self.value = res\n",
    "            print(res)\n",
    "        except:\n",
    "            print('Расчет невозможен')"
   ]
  },
  {
   "cell_type": "code",
   "execution_count": 4,
   "id": "e07495a6",
   "metadata": {},
   "outputs": [],
   "source": [
    "class SimpleTable:\n",
    "    def __init__(self, file, encoding = 'utf-8-sig'):\n",
    "        self.table = []\n",
    "        with open(file, encoding=encoding, newline='') as File:  \n",
    "            reader = csv.reader(File, delimiter=';')\n",
    "            for row in reader:\n",
    "                for i in range(0,len(row)):\n",
    "                    if row[i] == '':\n",
    "                        row[i] = Cell()\n",
    "                    else:\n",
    "                        try:\n",
    "                            row[i] = Cell(value = int(row[i]))\n",
    "                        except:\n",
    "                            row[i] = Cell(value = row[i])\n",
    "                self.table.append(row)\n",
    "    \n",
    "    def print_table(self):\n",
    "        mapper = lambda x: x+1\n",
    "        table = [[c.value for c in row] for row in self.table]\n",
    "        df = pd.DataFrame(data=table)\n",
    "        df.rename(mapper=mapper, axis=1, inplace=True)\n",
    "        df.rename(mapper=mapper, axis=0, inplace=True)\n",
    "        print(df)\n",
    "        \n",
    "    def cell(self, row, col):\n",
    "        \"\"\"\n",
    "        Возвращает значения в ячейке\n",
    "        rows-1 и col-1 -- чтобы адрес ячейки можно было задавать не \n",
    "        в питоновском формате, а в человеческом (значения начинаются с 1)\n",
    "        \"\"\"\n",
    "        return self.table[row-1][col-1]\n",
    "        \n",
    "        \n",
    "    def cell_change(self, row, col, value):\n",
    "        self.table[row-1][col-1].change(value)\n",
    "        \n",
    "    def add_row(self, row_pos=-9999, row_values=[]):\n",
    "        if row_pos == -9999:\n",
    "            row_pos = len(self.table) + 1\n",
    "        if row_pos > (len(self.table)+1) or row_pos < 1 or isinstance(row_pos, int) == False:\n",
    "            return 'Row index out of range'\n",
    "        if row_values == []:\n",
    "            N = len(self.table[0])\n",
    "            row_values = np.array([None] * N)\n",
    "        if len(row_values) != len(self.table[0]):\n",
    "            return 'Недопустимая длина строки'\n",
    "        row_pos = row_pos - 1\n",
    "        row = [Cell(value=i) for i in row_values]\n",
    "        self.table = np.insert(self.table, row_pos, row, axis=0)\n",
    "        self.print_table()\n",
    "    \n",
    "    def add_col(self, col_pos=-9999, col_values=[]):\n",
    "        if col_pos == -9999:\n",
    "            col_pos = len(self.table[0]) + 1\n",
    "        if col_pos > (len(self.table[0])+1) or col_pos < 1 or isinstance(col_pos, int) == False:\n",
    "            return 'Column index out of range'\n",
    "        if col_values == []:\n",
    "            N = len(self.table)\n",
    "            col_values = np.array([None] * N)\n",
    "        if len(col_values) != len(self.table):\n",
    "            return 'Недопустимая длина столбца'\n",
    "        col_pos = col_pos - 1\n",
    "        col = [Cell(value=i) for i in col_values]\n",
    "        self.table = np.insert(self.table, col_pos, col, axis=1)\n",
    "        self.print_table()\n",
    "    \n",
    "    def delete_row(self, row_pos):\n",
    "        if row_pos > len(self.table) or row_pos < 1 or isinstance(row_pos, int) == False:\n",
    "            return 'Row index out of range'\n",
    "        else:\n",
    "            row_pos = row_pos - 1\n",
    "            self.table = np.delete(self.table, row_pos, axis=0)\n",
    "            self.print_table()\n",
    "        \n",
    "    def delete_col(self, col_pos):\n",
    "        if col_pos > len(self.table[0]) or col_pos < 1 or isinstance(col_pos, int) == False:\n",
    "            return 'Column index out of range'\n",
    "        else:\n",
    "            col_pos = col_pos - 1\n",
    "            self.table = np.delete(self.table, col_pos, axis=1)\n",
    "            self.print_table()\n",
    "    \n",
    "        \n",
    "    def set_range(self, row1, col1, row2, col2):\n",
    "        \"\"\"\n",
    "        Возвращает массив значений из заданного диапазона\n",
    "        \"\"\"\n",
    "        cells = []\n",
    "        if row1 == row2 & col1 == col2:\n",
    "            cells = self.table[row1-1][col1-1]\n",
    "            print('В диапазоне только 1 ячейка')\n",
    "        elif row1 == row2:\n",
    "            a = min(col1,col2)\n",
    "            b = max(col1,col2)\n",
    "            for i in range (a-1,b):\n",
    "                cells.append(self.table[row1-1][i])\n",
    "        elif col1 == col2:\n",
    "            a = min(row1,row2)\n",
    "            b = max(row1,row2)\n",
    "            for i in range (a-1,b):\n",
    "                cells.append(self.table[i][col1-1])\n",
    "        else:\n",
    "            print('Неверно указан диапазон')\n",
    "        return cells\n",
    "    \n",
    "    def range_operation(self, cell_row, cell_col, row1, col1, row2, col2):\n",
    "        self.table[cell_row-1][cell_col-1] = CellOperation(cells = self.set_range(row1, col1, row2, col2))\n",
    "        \n"
   ]
  },
  {
   "cell_type": "markdown",
   "id": "9477ecd2",
   "metadata": {},
   "source": [
    "Таблица из файла"
   ]
  },
  {
   "cell_type": "code",
   "execution_count": 7,
   "id": "805edea5",
   "metadata": {},
   "outputs": [
    {
     "name": "stdout",
     "output_type": "stream",
     "text": [
      "   1     2  3   4\n",
      "1  a     b  3   d\n",
      "2  1  None  2   3\n",
      "3  2   sff  3  sd\n",
      "4  1     2  3   4\n"
     ]
    }
   ],
   "source": [
    "tb = SimpleTable('test.csv')\n",
    "tb.print_table()"
   ]
  },
  {
   "cell_type": "markdown",
   "id": "e87359a5",
   "metadata": {},
   "source": [
    "Добавляем ряд (2 ряд, значения [2,'q',3,'w'])"
   ]
  },
  {
   "cell_type": "code",
   "execution_count": 8,
   "id": "27be65bf",
   "metadata": {},
   "outputs": [
    {
     "name": "stdout",
     "output_type": "stream",
     "text": [
      "   1     2  3   4\n",
      "1  a     b  3   d\n",
      "2  2     q  3   w\n",
      "3  1  None  2   3\n",
      "4  2   sff  3  sd\n",
      "5  1     2  3   4\n"
     ]
    }
   ],
   "source": [
    "tb.add_row(2,[2,'q',3,'w'])"
   ]
  },
  {
   "cell_type": "code",
   "execution_count": 9,
   "id": "cecd559e",
   "metadata": {},
   "outputs": [
    {
     "data": {
      "text/plain": [
       "'Row index out of range'"
      ]
     },
     "execution_count": 9,
     "metadata": {},
     "output_type": "execute_result"
    }
   ],
   "source": [
    "tb.add_row(10,[2,'q',3,'w'])"
   ]
  },
  {
   "cell_type": "markdown",
   "id": "426e0c3b",
   "metadata": {},
   "source": [
    "Добавляем столбец (без уточнения добавляется последний столбец с пустыми значениями)"
   ]
  },
  {
   "cell_type": "code",
   "execution_count": 10,
   "id": "783348d5",
   "metadata": {},
   "outputs": [
    {
     "name": "stdout",
     "output_type": "stream",
     "text": [
      "   1     2  3   4     5\n",
      "1  a     b  3   d  None\n",
      "2  2     q  3   w  None\n",
      "3  1  None  2   3  None\n",
      "4  2   sff  3  sd  None\n",
      "5  1     2  3   4  None\n"
     ]
    }
   ],
   "source": [
    "tb.add_col()"
   ]
  },
  {
   "cell_type": "markdown",
   "id": "d132d96c",
   "metadata": {},
   "source": [
    "Удалить столбец"
   ]
  },
  {
   "cell_type": "code",
   "execution_count": 11,
   "id": "8a31486e",
   "metadata": {},
   "outputs": [
    {
     "name": "stdout",
     "output_type": "stream",
     "text": [
      "   1     2  3   4\n",
      "1  a     b  3   d\n",
      "2  2     q  3   w\n",
      "3  1  None  2   3\n",
      "4  2   sff  3  sd\n",
      "5  1     2  3   4\n"
     ]
    }
   ],
   "source": [
    "tb.delete_col(5)"
   ]
  },
  {
   "cell_type": "markdown",
   "id": "08883aa3",
   "metadata": {},
   "source": [
    "В [1,1] создаем ячейку с формулой (операция над ячейками [1,3]-[4,3])"
   ]
  },
  {
   "cell_type": "code",
   "execution_count": 12,
   "id": "ec8171fd",
   "metadata": {},
   "outputs": [],
   "source": [
    "tb.range_operation(1,1,1,3,4,3)"
   ]
  },
  {
   "cell_type": "code",
   "execution_count": 14,
   "id": "ea63447e",
   "metadata": {},
   "outputs": [
    {
     "data": {
      "text/plain": [
       "[3, 3, 2, 3]"
      ]
     },
     "execution_count": 14,
     "metadata": {},
     "output_type": "execute_result"
    }
   ],
   "source": [
    "tb.cell(1,1).c_values"
   ]
  },
  {
   "cell_type": "code",
   "execution_count": 15,
   "id": "2a596ce4",
   "metadata": {},
   "outputs": [
    {
     "name": "stdout",
     "output_type": "stream",
     "text": [
      "54\n"
     ]
    }
   ],
   "source": [
    "tb.cell(1,1).mult()"
   ]
  },
  {
   "cell_type": "code",
   "execution_count": 16,
   "id": "cac22b63",
   "metadata": {},
   "outputs": [
    {
     "name": "stdout",
     "output_type": "stream",
     "text": [
      "    1     2  3   4\n",
      "1  54     b  3   d\n",
      "2   2     q  3   w\n",
      "3   1  None  2   3\n",
      "4   2   sff  3  sd\n",
      "5   1     2  3   4\n"
     ]
    }
   ],
   "source": [
    "tb.print_table()"
   ]
  },
  {
   "cell_type": "code",
   "execution_count": 17,
   "id": "2d5637c7",
   "metadata": {},
   "outputs": [
    {
     "name": "stdout",
     "output_type": "stream",
     "text": [
      "11\n",
      "    1     2  3   4\n",
      "1  11     b  3   d\n",
      "2   2     q  3   w\n",
      "3   1  None  2   3\n",
      "4   2   sff  3  sd\n",
      "5   1     2  3   4\n"
     ]
    }
   ],
   "source": [
    "tb.cell(1,1).add()\n",
    "tb.print_table()"
   ]
  },
  {
   "cell_type": "code",
   "execution_count": null,
   "id": "ec3ec874",
   "metadata": {},
   "outputs": [],
   "source": []
  }
 ],
 "metadata": {
  "kernelspec": {
   "display_name": "Python 3 (ipykernel)",
   "language": "python",
   "name": "python3"
  },
  "language_info": {
   "codemirror_mode": {
    "name": "ipython",
    "version": 3
   },
   "file_extension": ".py",
   "mimetype": "text/x-python",
   "name": "python",
   "nbconvert_exporter": "python",
   "pygments_lexer": "ipython3",
   "version": "3.7.5rc1"
  }
 },
 "nbformat": 4,
 "nbformat_minor": 5
}
